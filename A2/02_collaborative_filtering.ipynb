{
 "cells": [
  {
   "cell_type": "markdown",
   "id": "3ab69d8a",
   "metadata": {},
   "source": [
    "### 1. Load and Combine Train/Test Datasets"
   ]
  },
  {
   "cell_type": "code",
   "execution_count": 100,
   "id": "57d84feb",
   "metadata": {},
   "outputs": [],
   "source": [
    "import pandas as pd\n",
    "import matplotlib.pyplot as plt\n",
    "import seaborn as sns"
   ]
  },
  {
   "cell_type": "code",
   "execution_count": 101,
   "id": "51363c70",
   "metadata": {},
   "outputs": [
    {
     "name": "stdout",
     "output_type": "stream",
     "text": [
      "original train rows: 27,000 original test rows: 11,765\n",
      "Total rows after merging: 38,765\n"
     ]
    },
    {
     "data": {
      "text/html": [
       "<div>\n",
       "<style scoped>\n",
       "    .dataframe tbody tr th:only-of-type {\n",
       "        vertical-align: middle;\n",
       "    }\n",
       "\n",
       "    .dataframe tbody tr th {\n",
       "        vertical-align: top;\n",
       "    }\n",
       "\n",
       "    .dataframe thead th {\n",
       "        text-align: right;\n",
       "    }\n",
       "</style>\n",
       "<table border=\"1\" class=\"dataframe\">\n",
       "  <thead>\n",
       "    <tr style=\"text-align: right;\">\n",
       "      <th></th>\n",
       "      <th>Member_number</th>\n",
       "      <th>Date</th>\n",
       "      <th>itemDescription</th>\n",
       "      <th>year</th>\n",
       "      <th>month</th>\n",
       "      <th>day</th>\n",
       "      <th>day_of_week</th>\n",
       "      <th>dataset</th>\n",
       "    </tr>\n",
       "  </thead>\n",
       "  <tbody>\n",
       "    <tr>\n",
       "      <th>0</th>\n",
       "      <td>3021</td>\n",
       "      <td>30/01/2015</td>\n",
       "      <td>frankfurter</td>\n",
       "      <td>2015</td>\n",
       "      <td>1</td>\n",
       "      <td>30</td>\n",
       "      <td>4</td>\n",
       "      <td>train</td>\n",
       "    </tr>\n",
       "    <tr>\n",
       "      <th>1</th>\n",
       "      <td>1292</td>\n",
       "      <td>24/10/2015</td>\n",
       "      <td>pork</td>\n",
       "      <td>2015</td>\n",
       "      <td>10</td>\n",
       "      <td>24</td>\n",
       "      <td>5</td>\n",
       "      <td>train</td>\n",
       "    </tr>\n",
       "    <tr>\n",
       "      <th>2</th>\n",
       "      <td>4206</td>\n",
       "      <td>4/04/2014</td>\n",
       "      <td>root vegetables</td>\n",
       "      <td>2014</td>\n",
       "      <td>4</td>\n",
       "      <td>4</td>\n",
       "      <td>4</td>\n",
       "      <td>train</td>\n",
       "    </tr>\n",
       "    <tr>\n",
       "      <th>3</th>\n",
       "      <td>4369</td>\n",
       "      <td>25/08/2015</td>\n",
       "      <td>onions</td>\n",
       "      <td>2015</td>\n",
       "      <td>8</td>\n",
       "      <td>25</td>\n",
       "      <td>1</td>\n",
       "      <td>train</td>\n",
       "    </tr>\n",
       "    <tr>\n",
       "      <th>4</th>\n",
       "      <td>1522</td>\n",
       "      <td>1/07/2014</td>\n",
       "      <td>waffles</td>\n",
       "      <td>2014</td>\n",
       "      <td>7</td>\n",
       "      <td>1</td>\n",
       "      <td>1</td>\n",
       "      <td>train</td>\n",
       "    </tr>\n",
       "  </tbody>\n",
       "</table>\n",
       "</div>"
      ],
      "text/plain": [
       "   Member_number        Date  itemDescription  year  month  day  day_of_week  \\\n",
       "0           3021  30/01/2015      frankfurter  2015      1   30            4   \n",
       "1           1292  24/10/2015             pork  2015     10   24            5   \n",
       "2           4206   4/04/2014  root vegetables  2014      4    4            4   \n",
       "3           4369  25/08/2015           onions  2015      8   25            1   \n",
       "4           1522   1/07/2014          waffles  2014      7    1            1   \n",
       "\n",
       "  dataset  \n",
       "0   train  \n",
       "1   train  \n",
       "2   train  \n",
       "3   train  \n",
       "4   train  "
      ]
     },
     "execution_count": 101,
     "metadata": {},
     "output_type": "execute_result"
    }
   ],
   "source": [
    "train_data = pd.read_csv(\"Groceries data train.csv\")\n",
    "test_data  = pd.read_csv(\"Groceries data test.csv\")\n",
    "\n",
    "# Label each dataset with its origin for later separation\n",
    "train_data[\"dataset\"] = \"train\"\n",
    "test_data[\"dataset\"] = \"test\"\n",
    "data = pd.concat([train_data, test_data], axis=0, ignore_index=True)\n",
    "\n",
    "# Check dataset sizes and preview structure\n",
    "print(f\"original train rows: {len(train_data):,} original test rows: {len(test_data):,}\")\n",
    "print(f\"Total rows after merging: {len(data):,}\")\n",
    "data.head()"
   ]
  },
  {
   "cell_type": "markdown",
   "id": "2fbe05d0",
   "metadata": {},
   "source": [
    "The training and test datasets are loaded from CSV files. To ensure consistent preprocessing across both datasets, each row is labeled with its source (`\"train\"` or `\"test\"`), and the two datasets are then merged into a single DataFrame. This enables unified cleaning and transformation operations across the entire dataset. After preprocessing, the datasets can be separated again if required."
   ]
  },
  {
   "cell_type": "markdown",
   "id": "8541a2c7",
   "metadata": {},
   "source": [
    "### 2. Data Quality Inspection"
   ]
  },
  {
   "cell_type": "code",
   "execution_count": 102,
   "id": "e905dce9",
   "metadata": {},
   "outputs": [
    {
     "data": {
      "text/plain": [
       "Member_number      0\n",
       "Date               0\n",
       "itemDescription    0\n",
       "year               0\n",
       "month              0\n",
       "day                0\n",
       "day_of_week        0\n",
       "dataset            0\n",
       "dtype: int64"
      ]
     },
     "execution_count": 102,
     "metadata": {},
     "output_type": "execute_result"
    }
   ],
   "source": [
    "# Check for missing values in each column\n",
    "data.isnull().sum()"
   ]
  },
  {
   "cell_type": "code",
   "execution_count": 103,
   "id": "df874fd1",
   "metadata": {},
   "outputs": [
    {
     "name": "stdout",
     "output_type": "stream",
     "text": [
      "(437, 8)\n"
     ]
    }
   ],
   "source": [
    "# Display the number of duplicated rows\n",
    "dup_data = data[data.duplicated()]\n",
    "print(dup_data.shape)"
   ]
  },
  {
   "cell_type": "code",
   "execution_count": 104,
   "id": "f8920d87",
   "metadata": {},
   "outputs": [
    {
     "name": "stdout",
     "output_type": "stream",
     "text": [
      "(0, 8)\n"
     ]
    }
   ],
   "source": [
    "# Remove duplicated rows from the dataset\n",
    "data = data.drop_duplicates()\n",
    "dup_data = data[data.duplicated()]\n",
    "print(dup_data.shape)"
   ]
  },
  {
   "cell_type": "code",
   "execution_count": 105,
   "id": "18847dd7",
   "metadata": {},
   "outputs": [
    {
     "name": "stdout",
     "output_type": "stream",
     "text": [
      "Number of unique values per column:\n",
      " Member_number      3898\n",
      "Date                728\n",
      "itemDescription     167\n",
      "year                  2\n",
      "month                12\n",
      "day                  31\n",
      "day_of_week           7\n",
      "dataset               2\n",
      "dtype: int64\n"
     ]
    }
   ],
   "source": [
    "# count unique values in each column\n",
    "print(\"Number of unique values per column:\\n\", data.nunique())"
   ]
  },
  {
   "cell_type": "markdown",
   "id": "5143d008",
   "metadata": {},
   "source": [
    "### 3. 粒度验证（篮子尺寸分布）"
   ]
  },
  {
   "cell_type": "code",
   "execution_count": 106,
   "id": "3f2e5b5e",
   "metadata": {},
   "outputs": [
    {
     "ename": "NameError",
     "evalue": "name 'df' is not defined",
     "output_type": "error",
     "traceback": [
      "\u001b[1;31m---------------------------------------------------------------------------\u001b[0m",
      "\u001b[1;31mNameError\u001b[0m                                 Traceback (most recent call last)",
      "Cell \u001b[1;32mIn[106], line 2\u001b[0m\n\u001b[0;32m      1\u001b[0m DATE_COL \u001b[38;5;241m=\u001b[39m \u001b[38;5;124m\"\u001b[39m\u001b[38;5;124mDate\u001b[39m\u001b[38;5;124m\"\u001b[39m\n\u001b[1;32m----> 2\u001b[0m df[DATE_COL] \u001b[38;5;241m=\u001b[39m pd\u001b[38;5;241m.\u001b[39mto_datetime(df[DATE_COL], errors\u001b[38;5;241m=\u001b[39m\u001b[38;5;124m'\u001b[39m\u001b[38;5;124mcoerce\u001b[39m\u001b[38;5;124m'\u001b[39m, dayfirst\u001b[38;5;241m=\u001b[39m\u001b[38;5;28;01mTrue\u001b[39;00m)\n\u001b[0;32m      4\u001b[0m basket_size \u001b[38;5;241m=\u001b[39m (\n\u001b[0;32m      5\u001b[0m     df\u001b[38;5;241m.\u001b[39mgroupby([\u001b[38;5;124m'\u001b[39m\u001b[38;5;124mMember_number\u001b[39m\u001b[38;5;124m'\u001b[39m, DATE_COL])\n\u001b[0;32m      6\u001b[0m       \u001b[38;5;241m.\u001b[39msize()\n\u001b[0;32m      7\u001b[0m       \u001b[38;5;241m.\u001b[39mrename(\u001b[38;5;124m\"\u001b[39m\u001b[38;5;124mbasket_items\u001b[39m\u001b[38;5;124m\"\u001b[39m)\n\u001b[0;32m      8\u001b[0m )\n\u001b[0;32m     10\u001b[0m plt\u001b[38;5;241m.\u001b[39mfigure(figsize\u001b[38;5;241m=\u001b[39m(\u001b[38;5;241m6\u001b[39m,\u001b[38;5;241m2\u001b[39m))\n",
      "\u001b[1;31mNameError\u001b[0m: name 'df' is not defined"
     ]
    }
   ],
   "source": [
    "DATE_COL = \"Date\"\n",
    "df[DATE_COL] = pd.to_datetime(df[DATE_COL], errors='coerce', dayfirst=True)\n",
    "\n",
    "basket_size = (\n",
    "    df.groupby(['Member_number', DATE_COL])\n",
    "      .size()\n",
    "      .rename(\"basket_items\")\n",
    ")\n",
    "\n",
    "plt.figure(figsize=(6,2))\n",
    "basket_size.hist(bins=20)\n",
    "plt.title(\"Basket Size Distribution\")\n",
    "plt.xlabel(\"Items per Basket\")\n",
    "plt.ylabel(\"Basket Count\")\n",
    "plt.show()\n",
    "\n",
    "print(basket_size.describe())"
   ]
  },
  {
   "cell_type": "markdown",
   "id": "88d8b78c",
   "metadata": {},
   "source": [
    "### 4. 商品频次分布（头部 & 尾部）"
   ]
  },
  {
   "cell_type": "code",
   "execution_count": null,
   "id": "06fbd560",
   "metadata": {},
   "outputs": [
    {
     "data": {
      "image/png": "[encoded data removed]",
      "text/plain": [
       "<Figure size 1200x400 with 1 Axes>"
      ]
     },
     "metadata": {},
     "output_type": "display_data"
    },
    {
     "data": {
      "image/png": "[encoded data removed]",
      "text/plain": [
       "<Figure size 1200x400 with 1 Axes>"
      ]
     },
     "metadata": {},
     "output_type": "display_data"
    }
   ],
   "source": [
    "item_cnt = df['itemDescription'].value_counts()\n",
    "\n",
    "# 头部 20\n",
    "plt.figure(figsize=(12,4))\n",
    "sns.barplot(x=item_cnt.head(20).values, y=item_cnt.head(20).index)\n",
    "plt.title(\"Top-20 Item Frequency\")\n",
    "plt.show()\n",
    "\n",
    "# 尾部 20\n",
    "plt.figure(figsize=(12,4))\n",
    "sns.barplot(x=item_cnt.sort_values().head(20).values,\n",
    "            y=item_cnt.sort_values().head(20).index,\n",
    "            color=\"steelblue\")\n",
    "plt.title(\"Tail-20 Item Frequency\")\n",
    "plt.show()"
   ]
  },
  {
   "cell_type": "code",
   "execution_count": null,
   "id": "30299ede",
   "metadata": {},
   "outputs": [],
   "source": [
    "# ---------- 频次阈值（双侧过滤） ----------\n",
    "MIN_ITEM_FREQ = 10"
   ]
  },
  {
   "cell_type": "markdown",
   "id": "1050c88f",
   "metadata": {},
   "source": [
    "### 5. 时序分布（月趋势 & 周几柱状)"
   ]
  },
  {
   "cell_type": "code",
   "execution_count": null,
   "id": "14fb5a51",
   "metadata": {},
   "outputs": [
    {
     "data": {
      "image/png": "[encoded data removed]",
      "text/plain": [
       "<Figure size 1200x200 with 1 Axes>"
      ]
     },
     "metadata": {},
     "output_type": "display_data"
    },
    {
     "data": {
      "image/png": "[encoded data removed]",
      "text/plain": [
       "<Figure size 640x480 with 1 Axes>"
      ]
     },
     "metadata": {},
     "output_type": "display_data"
    }
   ],
   "source": [
    "# 月度交易量\n",
    "monthly_cnt = df.groupby(df[DATE_COL].dt.to_period('M')).size()\n",
    "monthly_cnt.plot(kind='bar', figsize=(12,2), title=\"Monthly Transaction Volume\")\n",
    "plt.ylabel(\"Transactions\"); plt.show()\n",
    "\n",
    "# 周几分布\n",
    "dow_cnt = df['day_of_week'].value_counts().sort_index()\n",
    "sns.barplot(x=dow_cnt.index, y=dow_cnt.values)\n",
    "plt.title(\"Transactions per Day-of-Week (0=Mon)\")\n",
    "plt.xlabel(\"Day of Week\"); plt.ylabel(\"Transactions\")\n",
    "plt.show()"
   ]
  },
  {
   "cell_type": "markdown",
   "id": "5ac4bc45",
   "metadata": {},
   "source": [
    "### 6. 用户购买多样性"
   ]
  },
  {
   "cell_type": "code",
   "execution_count": null,
   "id": "a3ac93a2",
   "metadata": {},
   "outputs": [
    {
     "data": {
      "image/png": "[encoded data removed]",
      "text/plain": [
       "<Figure size 700x300 with 1 Axes>"
      ]
     },
     "metadata": {},
     "output_type": "display_data"
    },
    {
     "name": "stdout",
     "output_type": "stream",
     "text": [
      "count    3898.000000\n",
      "mean        8.918933\n",
      "std         4.403278\n",
      "min         1.000000\n",
      "25%         6.000000\n",
      "50%         8.500000\n",
      "75%        12.000000\n",
      "max        26.000000\n",
      "Name: itemDescription, dtype: float64\n"
     ]
    }
   ],
   "source": [
    "# Cell 6 ─ 用户购买多样性\n",
    "user_div = df.groupby('Member_number')['itemDescription'].nunique()\n",
    "\n",
    "plt.figure(figsize=(7,3))\n",
    "user_div.hist(bins=30)\n",
    "plt.title(\"Unique Items per User\")\n",
    "plt.xlabel(\"#Unique Items\")\n",
    "plt.ylabel(\"#Users\")\n",
    "plt.show()\n",
    "\n",
    "print(user_div.describe())"
   ]
  },
  {
   "cell_type": "markdown",
   "id": "74924caa",
   "metadata": {},
   "source": [
    "### 7. 数据清洗"
   ]
  },
  {
   "cell_type": "code",
   "execution_count": null,
   "id": "57caea24",
   "metadata": {},
   "outputs": [
    {
     "name": "stdout",
     "output_type": "stream",
     "text": [
      "原始数据共 38,765 行\n",
      "【去重】移除 759 行\n",
      "【低频裁剪】保留 154 个 SKU，移除 70 行\n",
      "【多样性裁剪】移除 7 行，仅保留多样性 >1 的用户\n",
      "\n",
      "总共移除 836 行，清洗后剩余 37,929 行\n"
     ]
    }
   ],
   "source": [
    "# 记录原始行数\n",
    "total_start = len(df)\n",
    "print(f\"原始数据共 {total_start:,} 行\")\n",
    "\n",
    "### 1) 删除无法解析的日期\n",
    "df = df.dropna(subset=[DATE_COL])\n",
    "\n",
    "### 2) 商品名处理\n",
    "df['itemDescription'] = df['itemDescription'].str.lower().str.strip()\n",
    "\n",
    "### 3) 去重\n",
    "before = len(df)\n",
    "df = df.drop_duplicates(subset=['Member_number', DATE_COL, 'itemDescription'])\n",
    "removed = before - len(df)\n",
    "print(f\"【去重】移除 {removed:,} 行\")\n",
    "\n",
    "### 4) 低频裁剪\n",
    "freq = df['itemDescription'].value_counts()\n",
    "keep_items = freq[freq >= MIN_ITEM_FREQ].index\n",
    "before = len(df)\n",
    "df = df[df['itemDescription'].isin(keep_items)]\n",
    "removed = before - len(df)\n",
    "print(f\"【低频裁剪】保留 {len(keep_items)} 个 SKU，移除 {removed:,} 行\")\n",
    "\n",
    "### 5) 多样性裁剪\n",
    "user_div = df.groupby('Member_number')['itemDescription'].nunique()\n",
    "active_users = user_div[user_div > 1].index\n",
    "before = len(df)\n",
    "df = df[df['Member_number'].isin(active_users)]\n",
    "removed = before - len(df)\n",
    "print(f\"【多样性裁剪】移除 {removed:,} 行，仅保留多样性 >1 的用户\")\n",
    "\n",
    "### 汇总\n",
    "total_end = len(df)\n",
    "print(f\"\\n总共移除 {total_start - total_end:,} 行，清洗后剩余 {total_end:,} 行\")"
   ]
  },
  {
   "cell_type": "markdown",
   "id": "9c00943a",
   "metadata": {},
   "source": [
    "- 数据清洗（极其重要），排除掉对结果有干扰的信息，将会使用“清洗后的数据”进行分析"
   ]
  },
  {
   "cell_type": "markdown",
   "id": "0d595d9e",
   "metadata": {},
   "source": [
    "### 8. 清洗后再次拆分 train / test"
   ]
  },
  {
   "cell_type": "code",
   "execution_count": null,
   "id": "4c33e1c0",
   "metadata": {},
   "outputs": [
    {
     "name": "stdout",
     "output_type": "stream",
     "text": [
      "clean-train: 26,563 行\n",
      "clean-test : 11,366 行\n"
     ]
    }
   ],
   "source": [
    "train_df_clean = df[df['dataset']==\"train\"].copy()\n",
    "test_df_clean  = df[df['dataset']==\"test\"].copy()\n",
    "\n",
    "print(f\"clean-train: {len(train_df_clean):,} 行\")\n",
    "print(f\"clean-test : {len(test_df_clean):,} 行\")"
   ]
  },
  {
   "cell_type": "markdown",
   "id": "20655f7f",
   "metadata": {},
   "source": [
    "- 这里就是将清洗后的数据，再次拆分成train和test"
   ]
  },
  {
   "cell_type": "markdown",
   "id": "90a28e4d",
   "metadata": {},
   "source": [
    "### 9. 生成 basket_id、事务列表、User-Item 矩阵"
   ]
  },
  {
   "cell_type": "code",
   "execution_count": null,
   "id": "fefe7d39",
   "metadata": {},
   "outputs": [
    {
     "ename": "ModuleNotFoundError",
     "evalue": "No module named 'mlxtend'",
     "output_type": "error",
     "traceback": [
      "\u001b[1;31m---------------------------------------------------------------------------\u001b[0m",
      "\u001b[1;31mModuleNotFoundError\u001b[0m                       Traceback (most recent call last)",
      "Cell \u001b[1;32mIn[11], line 1\u001b[0m\n\u001b[1;32m----> 1\u001b[0m \u001b[38;5;28;01mfrom\u001b[39;00m \u001b[38;5;21;01mmlxtend\u001b[39;00m\u001b[38;5;21;01m.\u001b[39;00m\u001b[38;5;21;01mpreprocessing\u001b[39;00m \u001b[38;5;28;01mimport\u001b[39;00m TransactionEncoder\n\u001b[0;32m      3\u001b[0m \u001b[38;5;66;03m# -------------------------------------------------\u001b[39;00m\n\u001b[0;32m      4\u001b[0m \u001b[38;5;66;03m# 1. 创建 basket_id（只建一次）\u001b[39;00m\n\u001b[0;32m      5\u001b[0m \u001b[38;5;66;03m# 这一步的作用是创建同一笔订单的数据组，分配购物篮id\u001b[39;00m\n\u001b[0;32m      6\u001b[0m \u001b[38;5;66;03m# 就是上面说的 同时买了 牛奶，水果，蔬菜 的同一笔订单，为这笔订单分配 购物篮id，形成一个总的集合，用于每笔订单中商品的关联性\u001b[39;00m\n\u001b[0;32m      7\u001b[0m \u001b[38;5;66;03m# -------------------------------------------------\u001b[39;00m\n\u001b[0;32m      8\u001b[0m \u001b[38;5;28;01mfor\u001b[39;00m sub_df \u001b[38;5;129;01min\u001b[39;00m (train_df_clean, test_df_clean):\n",
      "\u001b[1;31mModuleNotFoundError\u001b[0m: No module named 'mlxtend'"
     ]
    }
   ],
   "source": [
    "from mlxtend.preprocessing import TransactionEncoder\n",
    "\n",
    "# -------------------------------------------------\n",
    "# 1. 创建 basket_id（只建一次）\n",
    "# 这一步的作用是创建同一笔订单的数据组，分配购物篮id\n",
    "# 就是上面说的 同时买了 牛奶，水果，蔬菜 的同一笔订单，为这笔订单分配 购物篮id，形成一个总的集合，用于每笔订单中商品的关联性\n",
    "# -------------------------------------------------\n",
    "for sub_df in (train_df_clean, test_df_clean):\n",
    "    if 'basket_id' not in sub_df.columns:\n",
    "        sub_df['basket_id'] = (\n",
    "            sub_df['Member_number'].astype(str) + \"_\" +\n",
    "            sub_df[DATE_COL].dt.strftime(\"%Y-%m-%d\")\n",
    "        )\n",
    "\n",
    "# -------------------------------------------------\n",
    "# 2. 训练集事务列表\n",
    "# 用于训练的数组，相当于0.8部分\n",
    "# -------------------------------------------------\n",
    "baskets_train = (\n",
    "    train_df_clean.groupby('basket_id')['itemDescription']\n",
    "                 .apply(list)\n",
    ")\n",
    "\n",
    "# -------------------------------------------------\n",
    "# 3. TransactionEncoder → (A) 普通 DataFrame   （B) 稀疏 DataFrame\n",
    "# 理解为One-Hot编码，方便算法计算的数据处理\n",
    "# -------------------------------------------------\n",
    "use_sparse = False          # ← True 改成稀疏模式\n",
    "\n",
    "te = TransactionEncoder()\n",
    "if use_sparse:\n",
    "    te_sparse = te.fit_transform(baskets_train.tolist(), sparse=True)\n",
    "    df_tf = pd.DataFrame.sparse.from_spmatrix(\n",
    "        te_sparse, columns=te.columns_\n",
    "    )\n",
    "else:\n",
    "    df_tf = pd.DataFrame(\n",
    "        te.fit_transform(baskets_train.tolist()),\n",
    "        columns=te.columns_\n",
    "    )\n",
    "print(\"编码矩阵形状:\", df_tf.shape, \"   稀疏?\" , use_sparse)"
   ]
  },
  {
   "cell_type": "markdown",
   "id": "0064bc15",
   "metadata": {},
   "source": [
    "- **以上部分代码和part1是一致的，主要是数据的预处理**"
   ]
  },
  {
   "cell_type": "markdown",
   "id": "8470bf85",
   "metadata": {},
   "source": [
    "### 10. Collaborative Filtering"
   ]
  },
  {
   "cell_type": "code",
   "execution_count": null,
   "id": "ef29d6c3",
   "metadata": {},
   "outputs": [],
   "source": [
    "# Import lib and difine global variables\n",
    "\n",
    "import numpy as np\n",
    "from scipy import sparse\n",
    "from sklearn.utils.extmath import safe_sparse_dot\n",
    "from collections import Counter\n",
    "\n",
    "# Optional (only needed for MinHash / LSH)\n",
    "from datasketch import MinHash, MinHashLSH\n",
    "\n",
    "# — Hyper‑parameters (tweak here) —\n",
    "TOP_K         = 20      # None → keep all neighbours\n",
    "MIN_SIM       = 0.30    # similarity cut‑off (all methods)\n",
    "MIN_SUPPORT   = 1       # |A ∩ B| threshold for exact Jaccard\n",
    "NUM_HASHES    = 128     # permutations per MinHash\n",
    "BANDS         = 32      # for LSH (NUM_HASHES % BANDS == 0)\n",
    "SAMPLES       = [0, 1, 2, 3, 4, 5]  # baskets to showcase\n",
    "MAX_ITEMS_PREVIEW = 6"
   ]
  },
  {
   "cell_type": "markdown",
   "id": "1bfb2fdd",
   "metadata": {},
   "source": [
    "**三个算法大致原理：**\n",
    "\n",
    "1. Jaccard： 通过计算篮子之间的 交集/并集，来判断两个篮子直接的关联度。\n",
    "   比如篮子A有香蕉、牛奶、鸡蛋，篮子B有苹果、牛奶、鸡蛋，那么|A ∪ B| = 4(并集共4个商品), |A ∩ B| = 2(交集只有两个商品，牛奶和鸡蛋)，那么A和B的Jaccard值 = 2/4.\n",
    "\n",
    "2. MinHash： 通过将每个篮子中的数据映射成整数数组，也就是Signature（签名），对比这些Signature来判断相似度。\n",
    "   比如篮子A有香蕉、牛奶、鸡蛋，可以映射成Signature_A={1,2,3}, 篮子B有苹果、牛奶、鸡蛋, 可以映射成Signature_B={4,2,3}, 然后通过算法计算Signature_A和Signature_B两个数组的差异，得到相似度\n",
    "\n",
    "3. LSH：LSH是MinHash的优化，将Signature（签名）拆成若干段，然后对比拆分后的段来判断相似度\n",
    "   比如Signature_A={1,2,3,...,100},拆分成1-50，51-100两个段， 直接匹配Signature_B={50,51,...,100},达到计算相似度的目的。"
   ]
  },
  {
   "cell_type": "markdown",
   "id": "bd110217",
   "metadata": {},
   "source": [
    "**参数作用：**\n",
    "\n",
    "- TOP_K: 控制每个 basket 最多保留多少个相似篮子，理解为每一组有相似商品篮子，按照比例大小从大到小排名前20. \n",
    "  比如一个basket有1，2，3，4，5号篮子都有相似物品，其中1，2号篮子都有商品a,b,c； 3和4只有a,b; 5号篮子只有a.\n",
    "\n",
    "- MIN_SIM: 最低相似度门槛,理解为每个篮子有多少比例的商品是一样的，这里设置0.3，意味着有30%的商品是一样的就是一个有效数据，低于0.3可以直接排除掉\n",
    "\n",
    "- MIN_SUPPORT： Jaccard 计算时，交集至少要有几项才保留。这里设置为1表示，两个篮子里只要有一项商品是一样的，就是合法的结果(上面的例子之中只要两个篮子同时有牛奶或鸡蛋，就是合法例子)。因为前面可视化分析中75%以上的篮子只有2-3个商品，所以设置为1\n",
    "\n",
    "- NUM_HASHES：MinHash中签名的最大长度，就是签名Signature数组最大有多长，这里设置成128 （itemDescription为160多，128应该够了）\n",
    "\n",
    "- BANDS： BANDS 表示将 MinHash 签名切分成多少组（band）\n",
    "\n",
    "- SAMPLES： 这个是打印前n条结果数据，如果想看更多数据可以往后添加\n",
    "\n",
    "- MAX_ITEMS_PREVIEW：也是打印结果用的，最多展示几条商品"
   ]
  },
  {
   "cell_type": "code",
   "execution_count": null,
   "id": "b5f63566",
   "metadata": {},
   "outputs": [],
   "source": [
    "# Build lookup tables & basket‑item matrix\n",
    "\n",
    "if 'itemDescription' not in df.columns:\n",
    "    raise KeyError(\"Column 'itemDescription' not found in `df`.\")\n",
    "\n",
    "# 1) item id → name\n",
    "item_names = (\n",
    "    df['itemDescription']\n",
    "      .drop_duplicates()\n",
    "      .reset_index(drop=True)\n",
    "      .tolist()\n",
    ")\n",
    "index_to_item = {i: n for i, n in enumerate(item_names)}\n",
    "\n",
    "# 2) basket‑item matrix `X`  (csr, bool‑int)\n",
    "values = df_tf.values\n",
    "is_sparse_input = (\n",
    "    sparse.issparse(values)\n",
    "    or (\n",
    "        isinstance(df_tf, pd.DataFrame)\n",
    "        and df_tf.dtypes.apply(lambda t: str(t).startswith('Sparse')).any()\n",
    "    )\n",
    ")\n",
    "if is_sparse_input:\n",
    "    X = df_tf.sparse.to_coo().tocsr().astype(bool).astype(int)\n",
    "else:\n",
    "    X = sparse.csr_matrix(values.astype(bool).astype(int))"
   ]
  },
  {
   "cell_type": "markdown",
   "id": "f2a6704e",
   "metadata": {},
   "source": [
    "**代码含义：**\n",
    "1) item id → name ：建立商品id和商品名的映射表，比如id=1，代表苹果，建立这样一个表，方便打印结果\n",
    "\n",
    "2) basket‑item matrix `X`  (csr, bool‑int)：将表稀疏矩阵化，满足算法的数据结构要求，方便计算\n",
    "    举例：\n",
    "    | Basket | milk | bread | eggs | dog food |\n",
    "    | ------ | ---- | ----- | ---- | -------- |\n",
    "    | 0      | 1    | 0     | 1    | 0        |\n",
    "    | 1      | 1    | 1     | 0    | 0        |\n",
    "    | 2      | 0    | 0     | 0    | 1        |\n",
    "    \n",
    "  得到矩阵：\n",
    "    X = [\n",
    "      [1 0 1 0]\n",
    "      [1 1 0 0]\n",
    "      [0 0 0 1]\n",
    "    ]"
   ]
  },
  {
   "cell_type": "code",
   "execution_count": null,
   "id": "6d02bfea",
   "metadata": {},
   "outputs": [
    {
     "name": "stdout",
     "output_type": "stream",
     "text": [
      "Exact matrix density = 0.072332\n",
      "Exact (TOP-20) density = 0.001430\n"
     ]
    }
   ],
   "source": [
    "# 1) Exact Jaccard similarity\n",
    "\n",
    "# |A ∩ B|\n",
    "inter = safe_sparse_dot(X, X.T, dense_output=False).tocoo()\n",
    "mask = inter.data >= MIN_SUPPORT\n",
    "inter.row, inter.col, inter.data = inter.row[mask], inter.col[mask], inter.data[mask]\n",
    "\n",
    "# |A ∪ B|\n",
    "row_sums = np.asarray(X.sum(axis=1)).ravel()\n",
    "unions = row_sums[inter.row] + row_sums[inter.col] - inter.data\n",
    "\n",
    "# Jaccard\n",
    "n_baskets = X.shape[0]\n",
    "jac = sparse.coo_matrix(\n",
    "        (inter.data / unions, (inter.row, inter.col)),\n",
    "        shape=(n_baskets, n_baskets)     # <-- square!\n",
    "      ).tocsr()\n",
    "print(f\"Exact matrix density = {jac.nnz / jac.shape[0]**2:.6f}\")\n",
    "\n",
    "# optional Top‑K pruning\n",
    "def prune_topk(mat, k, thr):\n",
    "    if k is None:\n",
    "        return mat\n",
    "    n = mat.shape[0]\n",
    "    indptr, indices, data = [0], [], []\n",
    "    for i in range(n):\n",
    "        s, e = mat.indptr[i], mat.indptr[i+1]\n",
    "        cols, vals = mat.indices[s:e], mat.data[s:e]\n",
    "        keep = (cols != i) & (vals >= thr)\n",
    "        cols, vals = cols[keep], vals[keep]\n",
    "        if vals.size:\n",
    "            top = np.argsort(vals)[-k:]\n",
    "            indices.extend(cols[top])\n",
    "            data.extend(vals[top])\n",
    "        indptr.append(len(indices))\n",
    "    return sparse.csr_matrix((data, indices, indptr), shape=mat.shape)\n",
    "\n",
    "jac_topk = prune_topk(jac, TOP_K, MIN_SIM)\n",
    "print(f\"Exact (TOP-{TOP_K}) density = {jac_topk.nnz / jac.shape[0]**2:.6f}\")"
   ]
  },
  {
   "cell_type": "markdown",
   "id": "a852618c",
   "metadata": {},
   "source": [
    "**Jaccard算法的实现：**\n",
    "- 计算 |A ∩ B|：共出现的商品数量\n",
    "- 计算 |A ∪ B|：A 的商品数 + B 的商品数 - 交集\n",
    "- 最后做 Jaccard = 交集 / 并集，构建稀疏相似度矩阵\n",
    "\n",
    "将稀疏相似度矩阵按每一行剪枝，只保留 Top-K 相似邻居\n",
    "- 排除自己本身（对角线）\n",
    "- 排除相似度低于 MIN_SIM 的配对\n",
    "- 每行只保留相似度最高的前 K 个（np.argsort 实现）\n",
    "\n",
    "**返回新的稀疏矩阵（CSR 格式），更稀疏、更紧凑，适合用于推荐或可视化**\n",
    "\n",
    "**可以直接理解为生成热力图，行为所有篮子，列为所有篮子，每个格子存储的是Jaccard值，对角线是自己和自己比为1，所以需要排除**"
   ]
  },
  {
   "cell_type": "code",
   "execution_count": null,
   "id": "377960cf",
   "metadata": {},
   "outputs": [
    {
     "name": "stdout",
     "output_type": "stream",
     "text": [
      "MinHash signatures ready.\n"
     ]
    }
   ],
   "source": [
    "# 2) MinHash signatures\n",
    "if MinHash is None:\n",
    "    print(\"`datasketch` not installed - skipping MinHash blocks.\")\n",
    "else:\n",
    "    minhash_sigs = []\n",
    "    for row in range(X.shape[0]):\n",
    "        mh = MinHash(num_perm=NUM_HASHES)\n",
    "        for col in X[row].indices:\n",
    "            mh.update(str(col).encode())\n",
    "        minhash_sigs.append(mh)\n",
    "    print(\"MinHash signatures ready.\")\n"
   ]
  },
  {
   "cell_type": "markdown",
   "id": "509ee17f",
   "metadata": {},
   "source": [
    "- 生成MinHash signatures的签名"
   ]
  },
  {
   "cell_type": "code",
   "execution_count": null,
   "id": "a2fe1d4b",
   "metadata": {},
   "outputs": [
    {
     "name": "stdout",
     "output_type": "stream",
     "text": [
      "LSH index built.\n"
     ]
    }
   ],
   "source": [
    "# 3) MinHash + LSH index\n",
    "if MinHashLSH is not None:\n",
    "    lsh = MinHashLSH(threshold=MIN_SIM, num_perm=NUM_HASHES)\n",
    "    for idx_sig, sig in enumerate(minhash_sigs):\n",
    "        lsh.insert(idx_sig, sig)\n",
    "    print(\"LSH index built.\")\n",
    "else:\n",
    "    lsh = None"
   ]
  },
  {
   "cell_type": "markdown",
   "id": "fddbefd4",
   "metadata": {},
   "source": [
    "- LSH的预处理"
   ]
  },
  {
   "cell_type": "code",
   "execution_count": null,
   "id": "121a64d2",
   "metadata": {},
   "outputs": [],
   "source": [
    "# Helper utilities\n",
    "def preview_items(basket_id, max_items=MAX_ITEMS_PREVIEW):\n",
    "    idx = X[basket_id].nonzero()[1]\n",
    "    out = ', '.join(index_to_item[i] for i in idx[:max_items])\n",
    "    return out + (', …' if len(idx) > max_items else '')\n",
    "\n",
    "\n",
    "def describe_exact(bid):\n",
    "    row = jac_topk.getrow(bid)\n",
    "    sims = [(j, s) for j, s in zip(row.indices, row.data) if j != bid and s >= MIN_SIM]\n",
    "    sims.sort(key=lambda t: -t[1])\n",
    "    if not sims:\n",
    "        return\n",
    "    if TOP_K is not None:\n",
    "        sims = sims[:TOP_K]\n",
    "    cnt = Counter(round(s, 3) for _, s in sims)\n",
    "    print(f\"\\n- Exact | Basket {bid} | {len(sims)} neighbours | {preview_items(bid)}\")\n",
    "    for sc, num in sorted(cnt.items(), key=lambda t: -t[0]):\n",
    "        print(f\"    Jaccard = {sc:>5} x {num}\")\n",
    "\n",
    "\n",
    "def describe_minhash(bid):\n",
    "    if MinHash is None:\n",
    "        return\n",
    "    sims = [(j, minhash_sigs[bid].jaccard(minhash_sigs[j])) for j in range(X.shape[0]) if j != bid]\n",
    "    sims = [(j, s) for j, s in sims if s >= MIN_SIM]\n",
    "    sims.sort(key=lambda t: -t[1])\n",
    "    if TOP_K is not None:\n",
    "        sims = sims[:TOP_K]\n",
    "    if not sims:\n",
    "        return\n",
    "    cnt = Counter(round(s, 3) for _, s in sims)\n",
    "    print(f\"\\n- MinHash | Basket {bid} | {len(sims)} neighbours | {preview_items(bid)}\")\n",
    "    for sc, num in sorted(cnt.items(), key=lambda t: -t[0]):\n",
    "        print(f\"    Approx-Jaccard = {sc:>5} x {num}\")\n",
    "\n",
    "\n",
    "def describe_lsh(bid):\n",
    "    if lsh is None:\n",
    "        return\n",
    "    cand = [cid for cid in lsh.query(minhash_sigs[bid]) if cid != bid]\n",
    "    sims = [(cid, minhash_sigs[bid].jaccard(minhash_sigs[cid])) for cid in cand]\n",
    "    sims = [(cid, s) for cid, s in sims if s >= MIN_SIM]\n",
    "    sims.sort(key=lambda t: -t[1])\n",
    "    if TOP_K is not None:\n",
    "        sims = sims[:TOP_K]\n",
    "    if not sims:\n",
    "        return\n",
    "    cnt = Counter(round(s, 3) for _, s in sims)\n",
    "    print(f\"\\n- LSH   | Basket {bid} | {len(sims)} neighbours | {preview_items(bid)}\")\n",
    "    for sc, num in sorted(cnt.items(), key=lambda t: -t[0]):\n",
    "        print(f\"    Approx-Jaccard = {sc:>5} x {num}\")"
   ]
  },
  {
   "cell_type": "markdown",
   "id": "422b8583",
   "metadata": {},
   "source": [
    "- 以上代码是用于打印结果的函数，不需要过多关注"
   ]
  },
  {
   "cell_type": "markdown",
   "id": "80090846",
   "metadata": {},
   "source": [
    "### Result"
   ]
  },
  {
   "cell_type": "code",
   "execution_count": null,
   "id": "ba64ae3f",
   "metadata": {},
   "outputs": [
    {
     "name": "stdout",
     "output_type": "stream",
     "text": [
      "\n",
      "- Exact | Basket 0 | 20 neighbours | nuts/prunes\n",
      "    Jaccard =   1.0 x 20\n",
      "\n",
      "- Exact | Basket 1 | 20 neighbours | dog food, bathroom cleaner\n",
      "    Jaccard =   1.0 x 11\n",
      "    Jaccard = 0.667 x 9\n",
      "\n",
      "- Exact | Basket 2 | 20 neighbours | ice cream, sweet spreads\n",
      "    Jaccard =   1.0 x 3\n",
      "    Jaccard = 0.667 x 2\n",
      "    Jaccard =   0.5 x 15\n",
      "\n",
      "- Exact | Basket 3 | 20 neighbours | sugar, nut snack\n",
      "    Jaccard =   1.0 x 1\n",
      "    Jaccard = 0.667 x 2\n",
      "    Jaccard =   0.5 x 17\n",
      "\n",
      "- Exact | Basket 4 | 20 neighbours | dog food\n",
      "    Jaccard =   1.0 x 20\n",
      "\n",
      "- Exact | Basket 5 | 20 neighbours | vinegar, dog food, frozen fruits\n",
      "    Jaccard =   1.0 x 1\n",
      "    Jaccard =  0.75 x 2\n",
      "    Jaccard = 0.667 x 17\n"
     ]
    }
   ],
   "source": [
    "# Jaccard \n",
    "for BID in SAMPLES:\n",
    "    describe_exact(BID)"
   ]
  },
  {
   "cell_type": "code",
   "execution_count": null,
   "id": "d9f751b0",
   "metadata": {},
   "outputs": [
    {
     "name": "stdout",
     "output_type": "stream",
     "text": [
      "\n",
      "- MinHash | Basket 0 | 20 neighbours | nuts/prunes\n",
      "    Approx-Jaccard =   1.0 x 20\n",
      "\n",
      "- MinHash | Basket 1 | 20 neighbours | dog food, bathroom cleaner\n",
      "    Approx-Jaccard =   1.0 x 11\n",
      "    Approx-Jaccard = 0.703 x 1\n",
      "    Approx-Jaccard = 0.695 x 3\n",
      "    Approx-Jaccard = 0.688 x 2\n",
      "    Approx-Jaccard = 0.664 x 1\n",
      "    Approx-Jaccard = 0.648 x 1\n",
      "    Approx-Jaccard = 0.641 x 1\n",
      "\n",
      "- MinHash | Basket 2 | 20 neighbours | ice cream, sweet spreads\n",
      "    Approx-Jaccard =   1.0 x 3\n",
      "    Approx-Jaccard = 0.609 x 1\n",
      "    Approx-Jaccard =  0.57 x 1\n",
      "    Approx-Jaccard =   0.5 x 15\n",
      "\n",
      "- MinHash | Basket 3 | 20 neighbours | sugar, nut snack\n",
      "    Approx-Jaccard =   1.0 x 1\n",
      "    Approx-Jaccard = 0.703 x 1\n",
      "    Approx-Jaccard =  0.57 x 1\n",
      "    Approx-Jaccard = 0.531 x 17\n",
      "\n",
      "- MinHash | Basket 4 | 20 neighbours | dog food\n",
      "    Approx-Jaccard =   1.0 x 20\n",
      "\n",
      "- MinHash | Basket 5 | 20 neighbours | vinegar, dog food, frozen fruits\n",
      "    Approx-Jaccard =   1.0 x 1\n",
      "    Approx-Jaccard = 0.797 x 1\n",
      "    Approx-Jaccard = 0.734 x 18\n"
     ]
    }
   ],
   "source": [
    "# MinHash \n",
    "for BID in SAMPLES:\n",
    "    describe_minhash(BID)"
   ]
  },
  {
   "cell_type": "code",
   "execution_count": null,
   "id": "0cff5377",
   "metadata": {},
   "outputs": [
    {
     "name": "stdout",
     "output_type": "stream",
     "text": [
      "\n",
      "- LSH   | Basket 0 | 20 neighbours | nuts/prunes\n",
      "    Approx-Jaccard =   1.0 x 20\n",
      "\n",
      "- LSH   | Basket 1 | 20 neighbours | dog food, bathroom cleaner\n",
      "    Approx-Jaccard =   1.0 x 11\n",
      "    Approx-Jaccard = 0.703 x 1\n",
      "    Approx-Jaccard = 0.695 x 3\n",
      "    Approx-Jaccard = 0.688 x 2\n",
      "    Approx-Jaccard = 0.664 x 1\n",
      "    Approx-Jaccard = 0.648 x 1\n",
      "    Approx-Jaccard = 0.641 x 1\n",
      "\n",
      "- LSH   | Basket 2 | 20 neighbours | ice cream, sweet spreads\n",
      "    Approx-Jaccard =   1.0 x 3\n",
      "    Approx-Jaccard = 0.609 x 1\n",
      "    Approx-Jaccard =  0.57 x 1\n",
      "    Approx-Jaccard =   0.5 x 15\n",
      "\n",
      "- LSH   | Basket 3 | 20 neighbours | sugar, nut snack\n",
      "    Approx-Jaccard =   1.0 x 1\n",
      "    Approx-Jaccard = 0.703 x 1\n",
      "    Approx-Jaccard =  0.57 x 1\n",
      "    Approx-Jaccard = 0.531 x 17\n",
      "\n",
      "- LSH   | Basket 4 | 20 neighbours | dog food\n",
      "    Approx-Jaccard =   1.0 x 20\n",
      "\n",
      "- LSH   | Basket 5 | 20 neighbours | vinegar, dog food, frozen fruits\n",
      "    Approx-Jaccard =   1.0 x 1\n",
      "    Approx-Jaccard = 0.797 x 1\n",
      "    Approx-Jaccard = 0.734 x 18\n"
     ]
    }
   ],
   "source": [
    "#  LSH\n",
    "for BID in SAMPLES:\n",
    "    describe_lsh(BID)"
   ]
  },
  {
   "cell_type": "markdown",
   "id": "c13fb49c",
   "metadata": {},
   "source": [
    "- 三个算法计算得到的结果一样，相似度分析成功。\n",
    "\n",
    "**注意：报告中一定要仔细分析结果！上面的商品也好好想想为什么有这种关联度，可以给什么推荐，这些都是Group Report的核心！**"
   ]
  }
 ],
 "metadata": {
  "kernelspec": {
   "display_name": "base",
   "language": "python",
   "name": "python3"
  },
  "language_info": {
   "codemirror_mode": {
    "name": "ipython",
    "version": 3
   },
   "file_extension": ".py",
   "mimetype": "text/x-python",
   "name": "python",
   "nbconvert_exporter": "python",
   "pygments_lexer": "ipython3",
   "version": "3.12.7"
  }
 },
 "nbformat": 4,
 "nbformat_minor": 5
}
